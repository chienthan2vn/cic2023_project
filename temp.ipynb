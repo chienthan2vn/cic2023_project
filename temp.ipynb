{
 "cells": [
  {
   "cell_type": "code",
   "execution_count": 1,
   "id": "acb7145a",
   "metadata": {},
   "outputs": [
    {
     "name": "stdout",
     "output_type": "stream",
     "text": [
      "=== PREPROCESSING DỮ LIỆU CIC 2023 MINI ===\n",
      "=== ÁP DỤNG FCM TRÊN CIC 2023 MINI ===\n",
      "\n",
      "1. FCM EUCLIDEAN - Full Features (10D):\n",
      "FCM Euclidean hội tụ sau 32 iterations\n"
     ]
    }
   ],
   "source": [
    "import pandas as pd\n",
    "import numpy as np\n",
    "from sklearn.preprocessing import StandardScaler, LabelEncoder\n",
    "from sklearn.decomposition import PCA\n",
    "from sklearn.metrics import adjusted_rand_score, silhouette_score\n",
    "import matplotlib.pyplot as plt\n",
    "import seaborn as sns\n",
    "import warnings\n",
    "warnings.filterwarnings('ignore')\n",
    "\n",
    "from preprocess import _preprocess_cic2023_mini\n",
    "from fcm import FCM\n",
    "\n",
    "\n",
    "x, y = _preprocess_cic2023_mini()\n",
    "# Áp dụng FCM trên dataset CIC 2023 mini\n",
    "print(\"=== ÁP DỤNG FCM TRÊN CIC 2023 MINI ===\\n\")\n",
    "\n",
    "# FCM Euclidean trên dữ liệu đầy đủ (10 features)\n",
    "print(\"1. FCM EUCLIDEAN - Full Features (10D):\")\n",
    "fcm_euc_full = FCM(n_clusters=5, m=2, max_iter=200, tol=1e-5, distance_metric='euclidean')\n",
    "fcm_euc_full.fit(x)\n",
    "labels_euc_full = fcm_euc_full.predict(x)"
   ]
  },
  {
   "cell_type": "code",
   "execution_count": null,
   "id": "25fa3b24",
   "metadata": {},
   "outputs": [
    {
     "name": "stdout",
     "output_type": "stream",
     "text": [
      "Adjusted Rand Index (so với ground truth):\n",
      "- FCM Euclidean (Full): 0.8736\n",
      "\n",
      "Silhouette Score (chất lượng clustering):\n",
      "- FCM Euclidean (Full): 0.4623\n"
     ]
    }
   ],
   "source": [
    "ari_euc_full = adjusted_rand_score(y, labels_euc_full)\n",
    "sil_euc_full = silhouette_score(x, labels_euc_full)\n",
    "\n",
    "print(\"Adjusted Rand Index (so với ground truth):\")\n",
    "print(f\"- FCM Euclidean (Full): {ari_euc_full:.4f}\")\n",
    "\n",
    "print(\"\\nSilhouette Score (chất lượng clustering):\")\n",
    "print(f\"- FCM Euclidean (Full): {sil_euc_full:.4f}\")"
   ]
  },
  {
   "cell_type": "code",
   "execution_count": 6,
   "id": "b395da78",
   "metadata": {},
   "outputs": [
    {
     "name": "stdout",
     "output_type": "stream",
     "text": [
      "\n",
      "=== PHÂN TÍCH CLUSTER DISTRIBUTION ===\n",
      "Ground Truth distribution: [200 200 200 200 200]\n",
      "FCM Euclidean (Full): [215 189 189 207 200]\n"
     ]
    }
   ],
   "source": [
    "print(\"\\n=== PHÂN TÍCH CLUSTER DISTRIBUTION ===\")\n",
    "print(\"Ground Truth distribution:\", np.bincount(y))\n",
    "print(\"FCM Euclidean (Full):\", np.bincount(labels_euc_full))"
   ]
  },
  {
   "cell_type": "code",
   "execution_count": null,
   "id": "c320c436",
   "metadata": {},
   "outputs": [],
   "source": []
  }
 ],
 "metadata": {
  "kernelspec": {
   "display_name": "cic2023",
   "language": "python",
   "name": "python3"
  },
  "language_info": {
   "codemirror_mode": {
    "name": "ipython",
    "version": 3
   },
   "file_extension": ".py",
   "mimetype": "text/x-python",
   "name": "python",
   "nbconvert_exporter": "python",
   "pygments_lexer": "ipython3",
   "version": "3.10.0"
  }
 },
 "nbformat": 4,
 "nbformat_minor": 5
}
